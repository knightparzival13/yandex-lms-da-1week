{
 "cells": [
  {
   "cell_type": "code",
   "execution_count": null,
   "id": "d08404f9-ab56-4885-8b3e-e05b23d27798",
   "metadata": {},
   "outputs": [],
   "source": [
    "# Первая задача\n",
    "\n",
    "import pandas as pd\n",
    "import warnings\n",
    "\n",
    "warnings.filterwarnings(\"ignore\")\n",
    "\n",
    "df = pd.read_csv(\"data.csv\", skipinitialspace=True)\n",
    "df.columns = [x.lower().replace(\" \", \"_\") for x in df.columns]\n",
    "\n",
    "new_df = df[['вес', 'ингредиент_1', 'ингредиент_2']]\n",
    "new_df = new_df.sort_values(by=['ингредиент_1', \n",
    "                                'ингредиент_2',\n",
    "                                'вес'\n",
    "                                ]\n",
    "                            )\n",
    "correlation = new_df.corr()\n",
    "print(correlation)\n"
   ]
  },
  {
   "cell_type": "code",
   "execution_count": 35,
   "id": "0dcc79b7-8e55-4003-ae82-afa8321fb22d",
   "metadata": {},
   "outputs": [
    {
     "name": "stdout",
     "output_type": "stream",
     "text": [
      "                 полная_мощность  время_нагрева  вес_добавки\n",
      "полная_мощность         1.000000       0.993236     0.893739\n",
      "время_нагрева           0.993236       1.000000     0.886950\n",
      "вес_добавки             0.893739       0.886950     1.000000\n"
     ]
    }
   ],
   "source": [
    "# Вторая задача\n",
    "\n",
    "import pandas as pd\n",
    "import warnings\n",
    "\n",
    "warnings.filterwarnings(\"ignore\")\n",
    "\n",
    "df = pd.read_csv(\"qq3_csv_lms.csv\", encoding='ANSI')\n",
    "df.columns = [x.lower().replace(\" \", \"_\") for x in df.columns]\n",
    "\n",
    "new_df = df.groupby(by='key').sum()\n",
    "\n",
    "corr_matrix = sum_by_key.corr(method='spearman')\n",
    "\n",
    "filtered_corr_matrix = corr_matrix[abs(corr_matrix) >= 0.85]\n",
    "filtered_corr_matrix = filtered_corr_matrix.where(abs(filtered_corr_matrix) >= 0.85)\n",
    "\n",
    "print(filtered_corr_matrix)\n"
   ]
  },
  {
   "cell_type": "code",
   "execution_count": null,
   "id": "b0f06cbb-9885-44eb-b2c6-eaaf98f5416d",
   "metadata": {},
   "outputs": [],
   "source": [
    "# Третья задача\n",
    "\n",
    "import pandas as pd\n",
    "import warnings\n",
    "\n",
    "warnings.filterwarnings(\"ignore\")\n",
    "\n",
    "df = pd.read_csv(\"qq4_csv_lms.csv\", encoding='ANSI')\n",
    "df.columns = [x.lower().replace(\" \", \"_\") for x in df.columns]\n",
    "\n",
    "new_df = df[['ингредиент_1', 'брак']] \n",
    "\n",
    "new_df = new_df.sort_values(by='ингредиент_1')\n",
    "new_df['брак'] = new_df['брак'].apply(\n",
    "    lambda x: 0 if x == 'Брак' else (\n",
    "        1 if x == 'Годен' else x)\n",
    ")\n",
    "\n",
    "result = new_df['ингредиент_1'].corr(new_df['брак'])\n",
    "print(abs(round(result, 4)))\n"
   ]
  },
  {
   "cell_type": "code",
   "execution_count": 72,
   "id": "81cffe20-8127-4476-b3af-45e0414b50c3",
   "metadata": {},
   "outputs": [
    {
     "name": "stdout",
     "output_type": "stream",
     "text": [
      "0.0509\n"
     ]
    }
   ],
   "source": [
    "# Четвертая задача\n",
    "\n",
    "import pandas as pd\n",
    "import warnings\n",
    "\n",
    "warnings.filterwarnings(\"ignore\")\n",
    "\n",
    "df = pd.read_csv(\"qq4_csv_lms.csv\", encoding='ANSI')\n",
    "df.columns = [x.lower().replace(\" \", \"_\") for x in df.columns]\n",
    "lst = ['вес', 'брак']\n",
    "new_df = df\n",
    "new_df['брак'] = new_df['брак'].apply(\n",
    "    lambda x: 0 if x == 'Брак' else (\n",
    "        1 if x == 'Годен' else x)\n",
    ")\n",
    "new_df = df[(\n",
    "    df['номер_конвейера'] == 1\n",
    ") & (\n",
    "    df['номер_смены'] == 2\n",
    ")]\n",
    "new_df = new_df.sort_values(by=lst)\n",
    "\n",
    "result = new_df['вес'].corr(new_df['брак'])\n",
    "print(abs(round(result, 4)))\n"
   ]
  },
  {
   "cell_type": "code",
   "execution_count": 86,
   "id": "49155522-a747-4441-b0c3-bccfe727e5cf",
   "metadata": {},
   "outputs": [
    {
     "name": "stdout",
     "output_type": "stream",
     "text": [
      "0.3435\n"
     ]
    }
   ],
   "source": [
    "# Пятая задача\n",
    "\n",
    "import pandas as pd\n",
    "from scipy.stats import chi2_contingency\n",
    "import numpy as np\n",
    "import warnings\n",
    "\n",
    "warnings.filterwarnings(\"ignore\")\n",
    "\n",
    "df = pd.read_csv(\"qq4_csv_lms.csv\", encoding='ANSI')\n",
    "df.columns = [x.lower().replace(\" \", \"_\") for x in df.columns]\n",
    "\n",
    "df['брак'] = df['брак'].apply(\n",
    "    lambda x: 0 if x == 'Брак' else (\n",
    "        1 if x == 'Годен' else x)\n",
    ")\n",
    "df = df[(\n",
    "    df['ингредиент_1'] < 270\n",
    ") & (\n",
    "    df['номер_смены'] == 2\n",
    ")]\n",
    "\n",
    "df = df[['оператор_линии', 'брак']]\n",
    "\n",
    "# Создаем таблицу сопряженности для двух качественных переменных\n",
    "cross_tab = pd.crosstab(df['брак'], df['оператор_линии'])\n",
    "\n",
    "# Выполняем тест хи-квадрат для таблицы сопряженности\n",
    "chi2, p, _, _ = chi2_contingency(cross_tab)\n",
    "\n",
    "# Вычисляем коэффициент корреляции Крамера\n",
    "n = cross_tab.sum().sum()\n",
    "corr_coef = np.sqrt(chi2 / (n * (min(cross_tab.shape) - 1)))\n",
    "\n",
    "print(abs(round(corr_coef, 4)))\n"
   ]
  },
  {
   "cell_type": "code",
   "execution_count": 91,
   "id": "17f81150-e1cd-4b31-8493-f149beb2d139",
   "metadata": {},
   "outputs": [
    {
     "name": "stdout",
     "output_type": "stream",
     "text": [
      "0.385\n"
     ]
    }
   ],
   "source": [
    "# Шестая задача\n",
    "\n",
    "import pandas as pd\n",
    "from scipy.stats import chi2_contingency\n",
    "import numpy as np\n",
    "import warnings\n",
    "\n",
    "warnings.filterwarnings(\"ignore\")\n",
    "\n",
    "df = pd.read_csv(\"qq4_csv_lms.csv\", encoding='ANSI')\n",
    "df.columns = [x.lower().replace(\" \", \"_\") for x in df.columns]\n",
    "\n",
    "df['брак'] = df['брак'].apply(\n",
    "    lambda x: 0 if x == 'Брак' else (\n",
    "        1 if x == 'Годен' else x)\n",
    ")\n",
    "\n",
    "df['ингредиент_кат'] = df['ингредиент_1'].apply(\n",
    "    lambda x: 'менее_270' if x <= 270 else 'более_270'\n",
    ")\n",
    "\n",
    "df = df[['ингредиент_кат', 'брак']]\n",
    "\n",
    "# Создаем таблицу сопряженности для двух качественных переменных\n",
    "cross_tab = pd.crosstab(df['брак'], df['ингредиент_кат'])\n",
    "\n",
    "# Выполняем тест хи-квадрат для таблицы сопряженности\n",
    "chi2, p, _, _ = chi2_contingency(cross_tab)\n",
    "\n",
    "# Вычисляем коэффициент корреляции Крамера\n",
    "n = cross_tab.sum().sum()\n",
    "corr_coef = np.sqrt(chi2 / (n * (min(cross_tab.shape) - 1)))\n",
    "\n",
    "print(abs(round(corr_coef, 4)))\n"
   ]
  },
  {
   "cell_type": "code",
   "execution_count": 117,
   "id": "ee96f981-a543-42f5-8edd-9f8e149f3dce",
   "metadata": {},
   "outputs": [
    {
     "ename": "KeyboardInterrupt",
     "evalue": "Interrupted by user",
     "output_type": "error",
     "traceback": [
      "\u001b[1;31m---------------------------------------------------------------------------\u001b[0m",
      "\u001b[1;31mKeyboardInterrupt\u001b[0m                         Traceback (most recent call last)",
      "Cell \u001b[1;32mIn[117], line 11\u001b[0m\n\u001b[0;32m      8\u001b[0m df \u001b[38;5;241m=\u001b[39m pd\u001b[38;5;241m.\u001b[39mread_csv(\u001b[38;5;124m\"\u001b[39m\u001b[38;5;124mqq4_csv_lms.csv\u001b[39m\u001b[38;5;124m\"\u001b[39m, encoding\u001b[38;5;241m=\u001b[39m\u001b[38;5;124m'\u001b[39m\u001b[38;5;124mANSI\u001b[39m\u001b[38;5;124m'\u001b[39m)\n\u001b[0;32m      9\u001b[0m df\u001b[38;5;241m.\u001b[39mcolumns \u001b[38;5;241m=\u001b[39m [x\u001b[38;5;241m.\u001b[39mlower()\u001b[38;5;241m.\u001b[39mreplace(\u001b[38;5;124m\"\u001b[39m\u001b[38;5;124m \u001b[39m\u001b[38;5;124m\"\u001b[39m, \u001b[38;5;124m\"\u001b[39m\u001b[38;5;124m_\u001b[39m\u001b[38;5;124m\"\u001b[39m) \u001b[38;5;28;01mfor\u001b[39;00m x \u001b[38;5;129;01min\u001b[39;00m df\u001b[38;5;241m.\u001b[39mcolumns]\n\u001b[1;32m---> 11\u001b[0m y \u001b[38;5;241m=\u001b[39m \u001b[38;5;28;43minput\u001b[39;49m\u001b[43m(\u001b[49m\u001b[43m)\u001b[49m\n\u001b[0;32m     13\u001b[0m df \u001b[38;5;241m=\u001b[39m df[[\u001b[38;5;124m'\u001b[39m\u001b[38;5;124mоператор_линии\u001b[39m\u001b[38;5;124m'\u001b[39m, \u001b[38;5;124m'\u001b[39m\u001b[38;5;124mвес\u001b[39m\u001b[38;5;124m'\u001b[39m, y]]\n\u001b[0;32m     15\u001b[0m sns\u001b[38;5;241m.\u001b[39mscatterplot(df, x\u001b[38;5;241m=\u001b[39m\u001b[38;5;124m'\u001b[39m\u001b[38;5;124mвес\u001b[39m\u001b[38;5;124m'\u001b[39m, y\u001b[38;5;241m=\u001b[39my, hue\u001b[38;5;241m=\u001b[39m\u001b[38;5;124m'\u001b[39m\u001b[38;5;124mоператор_линии\u001b[39m\u001b[38;5;124m'\u001b[39m)\n",
      "File \u001b[1;32m~\\AppData\\Local\\Programs\\Python\\Python312\\Lib\\site-packages\\ipykernel\\kernelbase.py:1270\u001b[0m, in \u001b[0;36mKernel.raw_input\u001b[1;34m(self, prompt)\u001b[0m\n\u001b[0;32m   1268\u001b[0m     msg \u001b[38;5;241m=\u001b[39m \u001b[38;5;124m\"\u001b[39m\u001b[38;5;124mraw_input was called, but this frontend does not support input requests.\u001b[39m\u001b[38;5;124m\"\u001b[39m\n\u001b[0;32m   1269\u001b[0m     \u001b[38;5;28;01mraise\u001b[39;00m StdinNotImplementedError(msg)\n\u001b[1;32m-> 1270\u001b[0m \u001b[38;5;28;01mreturn\u001b[39;00m \u001b[38;5;28;43mself\u001b[39;49m\u001b[38;5;241;43m.\u001b[39;49m\u001b[43m_input_request\u001b[49m\u001b[43m(\u001b[49m\n\u001b[0;32m   1271\u001b[0m \u001b[43m    \u001b[49m\u001b[38;5;28;43mstr\u001b[39;49m\u001b[43m(\u001b[49m\u001b[43mprompt\u001b[49m\u001b[43m)\u001b[49m\u001b[43m,\u001b[49m\n\u001b[0;32m   1272\u001b[0m \u001b[43m    \u001b[49m\u001b[38;5;28;43mself\u001b[39;49m\u001b[38;5;241;43m.\u001b[39;49m\u001b[43m_parent_ident\u001b[49m\u001b[43m[\u001b[49m\u001b[38;5;124;43m\"\u001b[39;49m\u001b[38;5;124;43mshell\u001b[39;49m\u001b[38;5;124;43m\"\u001b[39;49m\u001b[43m]\u001b[49m\u001b[43m,\u001b[49m\n\u001b[0;32m   1273\u001b[0m \u001b[43m    \u001b[49m\u001b[38;5;28;43mself\u001b[39;49m\u001b[38;5;241;43m.\u001b[39;49m\u001b[43mget_parent\u001b[49m\u001b[43m(\u001b[49m\u001b[38;5;124;43m\"\u001b[39;49m\u001b[38;5;124;43mshell\u001b[39;49m\u001b[38;5;124;43m\"\u001b[39;49m\u001b[43m)\u001b[49m\u001b[43m,\u001b[49m\n\u001b[0;32m   1274\u001b[0m \u001b[43m    \u001b[49m\u001b[43mpassword\u001b[49m\u001b[38;5;241;43m=\u001b[39;49m\u001b[38;5;28;43;01mFalse\u001b[39;49;00m\u001b[43m,\u001b[49m\n\u001b[0;32m   1275\u001b[0m \u001b[43m\u001b[49m\u001b[43m)\u001b[49m\n",
      "File \u001b[1;32m~\\AppData\\Local\\Programs\\Python\\Python312\\Lib\\site-packages\\ipykernel\\kernelbase.py:1313\u001b[0m, in \u001b[0;36mKernel._input_request\u001b[1;34m(self, prompt, ident, parent, password)\u001b[0m\n\u001b[0;32m   1310\u001b[0m \u001b[38;5;28;01mexcept\u001b[39;00m \u001b[38;5;167;01mKeyboardInterrupt\u001b[39;00m:\n\u001b[0;32m   1311\u001b[0m     \u001b[38;5;66;03m# re-raise KeyboardInterrupt, to truncate traceback\u001b[39;00m\n\u001b[0;32m   1312\u001b[0m     msg \u001b[38;5;241m=\u001b[39m \u001b[38;5;124m\"\u001b[39m\u001b[38;5;124mInterrupted by user\u001b[39m\u001b[38;5;124m\"\u001b[39m\n\u001b[1;32m-> 1313\u001b[0m     \u001b[38;5;28;01mraise\u001b[39;00m \u001b[38;5;167;01mKeyboardInterrupt\u001b[39;00m(msg) \u001b[38;5;28;01mfrom\u001b[39;00m \u001b[38;5;28;01mNone\u001b[39;00m\n\u001b[0;32m   1314\u001b[0m \u001b[38;5;28;01mexcept\u001b[39;00m \u001b[38;5;167;01mException\u001b[39;00m:\n\u001b[0;32m   1315\u001b[0m     \u001b[38;5;28mself\u001b[39m\u001b[38;5;241m.\u001b[39mlog\u001b[38;5;241m.\u001b[39mwarning(\u001b[38;5;124m\"\u001b[39m\u001b[38;5;124mInvalid Message:\u001b[39m\u001b[38;5;124m\"\u001b[39m, exc_info\u001b[38;5;241m=\u001b[39m\u001b[38;5;28;01mTrue\u001b[39;00m)\n",
      "\u001b[1;31mKeyboardInterrupt\u001b[0m: Interrupted by user"
     ]
    }
   ],
   "source": [
    "# Седьмая задача\n",
    "\n",
    "import pandas as pd\n",
    "import seaborn as sns\n",
    "import matplotlib.pyplot as plt\n",
    "import warnings\n",
    "\n",
    "warnings.filterwarnings(\"ignore\")\n",
    "\n",
    "df = pd.read_csv(\"qq4_csv_lms.csv\", encoding='ANSI')\n",
    "df.columns = [x.lower().replace(\" \", \"_\") for x in df.columns]\n",
    "\n",
    "y = input()\n",
    "\n",
    "df = df[['оператор_линии', 'вес', y]]\n",
    "\n",
    "sns.scatterplot(df, x='вес', y=y, hue='оператор_линии')\n",
    "plt.title('Диаграмма рассеяния:\\nАнализ зависимости между факторами.',\n",
    "          pad=1.01, fontsize=16\n",
    "          )\n",
    "plt.savefig(\"target_3_7.png\")\n",
    "\n"
   ]
  },
  {
   "cell_type": "code",
   "execution_count": null,
   "id": "e244e572-e952-404b-b6ef-87373e3a5484",
   "metadata": {},
   "outputs": [],
   "source": []
  },
  {
   "cell_type": "code",
   "execution_count": null,
   "id": "f08be88d-2c75-400e-838a-35bcea93b5b6",
   "metadata": {},
   "outputs": [],
   "source": []
  }
 ],
 "metadata": {
  "kernelspec": {
   "display_name": "Python 3 (ipykernel)",
   "language": "python",
   "name": "python3"
  },
  "language_info": {
   "codemirror_mode": {
    "name": "ipython",
    "version": 3
   },
   "file_extension": ".py",
   "mimetype": "text/x-python",
   "name": "python",
   "nbconvert_exporter": "python",
   "pygments_lexer": "ipython3",
   "version": "3.12.1"
  }
 },
 "nbformat": 4,
 "nbformat_minor": 5
}
